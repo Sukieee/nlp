{
 "cells": [
  {
   "cell_type": "code",
   "execution_count": 3,
   "metadata": {},
   "outputs": [],
   "source": [
    "sum = lambda arg1, arg2:arg1+arg2"
   ]
  },
  {
   "cell_type": "code",
   "execution_count": 4,
   "metadata": {},
   "outputs": [
    {
     "name": "stdout",
     "output_type": "stream",
     "text": [
      "30\n"
     ]
    }
   ],
   "source": [
    "print(sum(10,20))"
   ]
  },
  {
   "cell_type": "code",
   "execution_count": 26,
   "metadata": {},
   "outputs": [
    {
     "name": "stdout",
     "output_type": "stream",
     "text": [
      "2019\n"
     ]
    },
    {
     "data": {
      "text/plain": [
       "[28, 31, 28, 31, 30, 31, 30, 31, 31, 30, 31, 30]"
      ]
     },
     "execution_count": 26,
     "metadata": {},
     "output_type": "execute_result"
    }
   ],
   "source": [
    "def is_leap_year(year):#对输入年份进行判断\n",
    "    if year % 4 == 0 and year % 100 != 0 or year % 400 == 0:\n",
    "        return True\n",
    "    else:\n",
    "        return False\n",
    "\n",
    "def get_num_of_days_in_month(year, month):\n",
    "\n",
    "    if month in (1, 3, 5, 7, 8, 10, 12):\n",
    "        return 31\n",
    "    elif month in (4, 6, 9, 11):\n",
    "        return 30\n",
    "    elif is_leap_year(year):\n",
    "        return 29\n",
    "    else:\n",
    "        return 28\n",
    "\n",
    "def get_total_num_of_day(year, month):\n",
    "    days = 0\n",
    "    for y in range(1800, year):\n",
    "        if is_leap_year(y):\n",
    "            days += 366\n",
    "        else:\n",
    "            days += 365\n",
    "    for m in range(1, month):\n",
    "        days += get_num_of_days_in_month(year, month)\n",
    "    return days\n",
    "\n",
    "def get_start_day(year, month):\n",
    "    return 3 + get_total_num_of_day(year, month) % 7\n",
    "\n",
    "month_dict = {1: 'January', 2: 'February', 3: 'March', 4: 'April', 5: 'May', 6: 'June',\n",
    "              7: 'July', 8: 'August', 9: 'September', 10: 'October', 11: 'November', 12: 'December'}\n",
    "\n",
    "def get_month_name(month):\n",
    "    return month_dict[month]\n",
    "\n",
    "def print_month_title(year, month):\n",
    "    print(get_month_name(month))\n",
    "    print ('Mo','Tu','We','Th','Fr','Sa','Su')\n",
    "\n",
    "def print_month_body(year, month):\n",
    "    i = get_start_day(year, month)\n",
    "\n",
    "    if i != 7:\n",
    "        print (' ') # 打印行首的两个空格\n",
    "        print (' '*i) # 从星期几开始则空5*几个空格\n",
    "    for j in range(1, get_num_of_days_in_month(year, month)+1):\n",
    "        print ('%4d' %j) # 宽度控制，4+1=5\n",
    "        i += 1\n",
    "        if i % 7 == 0:  # i用于计数和换行\n",
    "            print(' ') # 每换行一次行首继续空格\n",
    "\n",
    "year = int(input())\n",
    "month =12\n",
    "month_list = []\n",
    "for i in range(month):\n",
    "    month_list.append(get_num_of_days_in_month(year,i))\n",
    "\n",
    "month_list\n",
    "\n",
    "    \n",
    "#print_month_title(year, month)\n",
    "#print_month_body(year, month)"
   ]
  },
  {
   "cell_type": "markdown",
   "metadata": {},
   "source": [
    " "
   ]
  },
  {
   "cell_type": "code",
   "execution_count": null,
   "metadata": {},
   "outputs": [],
   "source": []
  }
 ],
 "metadata": {
  "kernelspec": {
   "display_name": "Python 3",
   "language": "python",
   "name": "python3"
  },
  "language_info": {
   "codemirror_mode": {
    "name": "ipython",
    "version": 3
   },
   "file_extension": ".py",
   "mimetype": "text/x-python",
   "name": "python",
   "nbconvert_exporter": "python",
   "pygments_lexer": "ipython3",
   "version": "3.6.5"
  }
 },
 "nbformat": 4,
 "nbformat_minor": 2
}
